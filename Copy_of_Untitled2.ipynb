{
  "nbformat": 4,
  "nbformat_minor": 0,
  "metadata": {
    "colab": {
      "name": "Copy of Untitled2.ipynb",
      "provenance": [],
      "mount_file_id": "1RMMpneXFATD9eUmisAT3DT6znMPYtJR-",
      "authorship_tag": "ABX9TyMgYAfKFViW4R5v40nCPfUy",
      "include_colab_link": true
    },
    "kernelspec": {
      "name": "python3",
      "display_name": "Python 3"
    }
  },
  "cells": [
    {
      "cell_type": "markdown",
      "metadata": {
        "id": "view-in-github",
        "colab_type": "text"
      },
      "source": [
        "<a href=\"https://colab.research.google.com/github/SrividyaS23/assignment/blob/master/Copy_of_Untitled2.ipynb\" target=\"_parent\"><img src=\"https://colab.research.google.com/assets/colab-badge.svg\" alt=\"Open In Colab\"/></a>"
      ]
    },
    {
      "cell_type": "code",
      "metadata": {
        "id": "bw6ef0UfQsmv"
      },
      "source": [
        "import pandas as pd\n",
        "import numpy as np\n",
        "import matplotlib.pyplot as plt"
      ],
      "execution_count": null,
      "outputs": []
    },
    {
      "cell_type": "code",
      "metadata": {
        "id": "0wZ82dHAQ3-T",
        "outputId": "c53ffc45-dd80-43b8-b6ac-be7bd93faa45",
        "colab": {
          "base_uri": "https://localhost:8080/",
          "height": 848
        }
      },
      "source": [
        "d=pd.read_csv(\"/Salary_Data.csv\")\n",
        "l=len(d.YearsExperience)\n",
        "it=list(range(1,10+1))\n",
        "error=[]\n",
        "for i in range(10):\n",
        "  w0=float(input(\"w0=\"))\n",
        "  w1=float(input(\"w1=\"))\n",
        "  yp=[]\n",
        "  er=[]\n",
        "  for j in range(l):\n",
        "    y1=w0+(w1*d.iloc[j,0])\n",
        "    yp.append(y1)\n",
        "    y=d.iloc[j,1]\n",
        "    er.append((yp[j]-y)**2)\n",
        "  e=np.mean(er)\n",
        "  print(i+1,\")\",e)\n",
        "  error.append(e)\n",
        "print(error)\n",
        "plt.plot(it,error)\n",
        "plt.xlabel(\"iteration\")\n",
        "plt.ylabel(\"error\")\n",
        "plt.scatter(it,error)"
      ],
      "execution_count": null,
      "outputs": [
        {
          "output_type": "stream",
          "text": [
            "w0=1\n",
            "w1=1\n",
            "1 ) 6501848514.976666\n",
            "w0=5000\n",
            "w1=5000\n",
            "2 ) 2160021604.0666666\n",
            "w0=10000\n",
            "w1=10000\n",
            "3 ) 199254604.06666666\n",
            "w0=11000\n",
            "w1=11000\n",
            "4 ) 92961204.06666666\n",
            "w0=11500\n",
            "w1=11500\n",
            "5 ) 75547004.06666668\n",
            "w0=11610\n",
            "w1=11610\n",
            "6 ) 74912747.73333333\n",
            "w0=11620\n",
            "w1=11620\n",
            "7 ) 74912260.06666666\n",
            "w0=11630\n",
            "w1=11630\n",
            "8 ) 74921301.06666666\n",
            "w0=11640\n",
            "w1=11640\n",
            "9 ) 74939870.73333333\n",
            "w0=11650\n",
            "w1=11650\n",
            "10 ) 74967969.06666666\n",
            "[6501848514.976666, 2160021604.0666666, 199254604.06666666, 92961204.06666666, 75547004.06666668, 74912747.73333333, 74912260.06666666, 74921301.06666666, 74939870.73333333, 74967969.06666666]\n"
          ],
          "name": "stdout"
        },
        {
          "output_type": "execute_result",
          "data": {
            "text/plain": [
              "<matplotlib.collections.PathCollection at 0x7f3869c77e10>"
            ]
          },
          "metadata": {
            "tags": []
          },
          "execution_count": 30
        },
        {
          "output_type": "display_data",
          "data": {
            "image/png": "[encoded data removed]",
            "text/plain": [
              "<Figure size 432x288 with 1 Axes>"
            ]
          },
          "metadata": {
            "tags": [],
            "needs_background": "light"
          }
        }
      ]
    },
    {
      "cell_type": "code",
      "metadata": {
        "id": "HCagzEuiU2Yw",
        "outputId": "2d872f6c-13a0-4697-8f94-1a6f95d24f5d",
        "colab": {
          "base_uri": "https://localhost:8080/",
          "height": 848
        }
      },
      "source": [
        "b=pd.read_csv(\"/datasets_56097_107686_headbrain.csv\")\n",
        "l=len(b.Gender)\n",
        "it=list(range(1,15+1))\n",
        "error=[]\n",
        "for i in range(15):\n",
        "  w=list(map(float,input(\"w0,w1,w2,w3=\").split(\",\")))\n",
        "  yp=[]\n",
        "  er=[]\n",
        "  for j in range(1):\n",
        "    x0=1\n",
        "    x1=b.iloc[j,0]\n",
        "    x2=b.iloc[j,1]\n",
        "    x3=b.iloc[j,2]\n",
        "    y1= (x0 * w[0]) + (x1 * w[1]) + (x2 * w[2]) + (x3 * w[3])\n",
        "    yp.append(y1)\n",
        "    y=b.iloc[j,3]\n",
        "    er.append((yp[j]-y)**2)\n",
        "  e=np.mean(er)\n",
        "  print(i+1,\")\",e)\n",
        "  error.append(e)\n",
        "print(error)\n",
        "plt.plot(it,error)\n",
        "plt.xlabel(\"iteration\")\n",
        "plt.ylabel(\"error\")\n",
        "plt.scatter(it,error)"
      ],
      "execution_count": null,
      "outputs": [
        {
          "output_type": "stream",
          "text": [
            "w0,w1,w2,w3=1,1,1,1\n",
            "1 ) 8910225.0\n",
            "w0,w1,w2,w3=2,2,2,2\n",
            "2 ) 56250000.0\n",
            "w0,w1,w2,w3=2,2,0,0\n",
            "3 ) 2328676.0\n",
            "w0,w1,w2,w3=0,0,0,0\n",
            "4 ) 2340900.0\n",
            "w0,w1,w2,w3=1,0,0,0\n",
            "5 ) 2337841.0\n",
            "w0,w1,w2,w3=0.1,0.1,0.1,0.1\n",
            "6 ) 1163162.25\n",
            "w0,w1,w2,w3=0.2,0.2,0.2,0.2\n",
            "7 ) 393128.9999999999\n",
            "w0,w1,w2,w3=0.3,0.3,0.3,0.3\n",
            "8 ) 30800.25\n",
            "w0,w1,w2,w3=0.4,0.4,0.4,0.4\n",
            "9 ) 76176.00000000013\n",
            "w0,w1,w2,w3=0.5,0.5,0.5,0.5\n",
            "10 ) 529256.25\n",
            "w0,w1,w2,w3=0.3,0.3,0.4,0.4\n",
            "11 ) 76065.6400000001\n",
            "w0,w1,w2,w3=0.2,0.2,0.3,0.3\n",
            "12 ) 30870.490000000016\n",
            "w0,w1,w2,w3=0.1,0.1,0.2,0.2\n",
            "13 ) 393379.8399999999\n",
            "w0,w1,w2,w3=0.2,0.1,0.2,0.1\n",
            "14 ) 1162730.89\n",
            "w0,w1,w2,w3=0.4,0.4,0.4,0.3\n",
            "15 ) 30695.040000000015\n",
            "[8910225.0, 56250000.0, 2328676.0, 2340900.0, 2337841.0, 1163162.25, 393128.9999999999, 30800.25, 76176.00000000013, 529256.25, 76065.6400000001, 30870.490000000016, 393379.8399999999, 1162730.89, 30695.040000000015]\n"
          ],
          "name": "stdout"
        },
        {
          "output_type": "execute_result",
          "data": {
            "text/plain": [
              "<matplotlib.collections.PathCollection at 0x7f3869dbdc50>"
            ]
          },
          "metadata": {
            "tags": []
          },
          "execution_count": 36
        },
        {
          "output_type": "display_data",
          "data": {
            "image/png": "[encoded data removed]",
            "text/plain": [
              "<Figure size 432x288 with 1 Axes>"
            ]
          },
          "metadata": {
            "tags": [],
            "needs_background": "light"
          }
        }
      ]
    }
  ]
}